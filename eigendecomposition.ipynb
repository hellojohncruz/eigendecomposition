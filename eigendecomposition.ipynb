{
 "cells": [
  {
   "cell_type": "code",
   "execution_count": 1,
   "id": "61d404d4-a948-4311-b4fc-f1fcf77f4097",
   "metadata": {},
   "outputs": [],
   "source": [
    "import numpy as np\n",
    "import sympy as sym"
   ]
  },
  {
   "cell_type": "markdown",
   "id": "58193092-bd9e-4ac5-8904-e55d0e81250c",
   "metadata": {},
   "source": [
    "# Eigenvalues and Right Eigenvectors of a Square Array"
   ]
  },
  {
   "cell_type": "markdown",
   "id": "878b9a8b-33c5-4640-98d9-b83b53a19f8f",
   "metadata": {},
   "source": [
    "## Finding Eigenvalues"
   ]
  },
  {
   "cell_type": "markdown",
   "id": "3306838f-fc32-40ac-89a3-d876b9d10cf2",
   "metadata": {},
   "source": [
    "### Lambda ($\\lambda$) is an eigenvalue of Matrix E, if and only if the determinant equals zero ($|\\lambda I_{n}| - E = 0$)"
   ]
  },
  {
   "cell_type": "markdown",
   "id": "ec83dc93-abb7-4704-a822-8812d882eaa7",
   "metadata": {},
   "source": [
    "Create a 2x2 matrix"
   ]
  },
  {
   "cell_type": "code",
   "execution_count": 2,
   "id": "ad0a5554-ad0c-4675-b576-fd1e3a64722f",
   "metadata": {},
   "outputs": [],
   "source": [
    "E = np.array([\n",
    "    [3, 1],\n",
    "    [2, 4]])"
   ]
  },
  {
   "cell_type": "markdown",
   "id": "174d117a-0473-4872-8784-17c41fa7abd4",
   "metadata": {},
   "source": [
    "Define lambda as 'L'"
   ]
  },
  {
   "cell_type": "code",
   "execution_count": 3,
   "id": "e33dfed4-7747-41ad-b90a-64f2baf7cdb3",
   "metadata": {},
   "outputs": [],
   "source": [
    "L = sym.Symbol('L')"
   ]
  },
  {
   "cell_type": "markdown",
   "id": "364ea4b5-55c9-4821-a324-d530ad15377e",
   "metadata": {},
   "source": [
    "Define the identity matrix of a 2x2"
   ]
  },
  {
   "cell_type": "code",
   "execution_count": 4,
   "id": "791bc1ec-1744-471d-aa2d-b32922b1e337",
   "metadata": {},
   "outputs": [
    {
     "data": {
      "text/latex": [
       "$\\displaystyle \\left[\\begin{matrix}1 & 0\\\\0 & 1\\end{matrix}\\right]$"
      ],
      "text/plain": [
       "Matrix([\n",
       "[1, 0],\n",
       "[0, 1]])"
      ]
     },
     "execution_count": 4,
     "metadata": {},
     "output_type": "execute_result"
    }
   ],
   "source": [
    "I = sym.Matrix([\n",
    "    [1, 0],\n",
    "    [0, 1]])\n",
    "\n",
    "I"
   ]
  },
  {
   "cell_type": "markdown",
   "id": "f5659cfc-c18e-4ea7-8f1f-d5ce439e982a",
   "metadata": {},
   "source": [
    "Find Matrix $|\\lambda I_{n}| - E$"
   ]
  },
  {
   "cell_type": "code",
   "execution_count": 5,
   "id": "8c0c9889-0252-4a3e-a5bc-9b37edfb3a83",
   "metadata": {},
   "outputs": [
    {
     "data": {
      "text/latex": [
       "$\\displaystyle \\left[\\begin{matrix}L - 3 & -1\\\\-2 & L - 4\\end{matrix}\\right]$"
      ],
      "text/plain": [
       "Matrix([\n",
       "[L - 3,    -1],\n",
       "[   -2, L - 4]])"
      ]
     },
     "execution_count": 5,
     "metadata": {},
     "output_type": "execute_result"
    }
   ],
   "source": [
    "eigenvalue_matrix = (L*I)-E\n",
    "eigenvalue_matrix"
   ]
  },
  {
   "cell_type": "markdown",
   "id": "0973a355-8676-4115-a3d3-f9a676b7b97d",
   "metadata": {},
   "source": [
    "### Eigenvalue Determinant"
   ]
  },
  {
   "cell_type": "code",
   "execution_count": 6,
   "id": "1302dc3b-b92c-4fec-869e-f118423bd853",
   "metadata": {},
   "outputs": [],
   "source": [
    "def solve_2by2(input_array):\n",
    "    # Solve a determinant of a 2x2 matrix\n",
    "    a = input_array[0, 0]\n",
    "    b = input_array[0, 1]\n",
    "    c = input_array[1, 0]\n",
    "    d = input_array[1, 1]\n",
    "    \n",
    "    return a*d-b*c"
   ]
  },
  {
   "cell_type": "code",
   "execution_count": 7,
   "id": "e903ff10-a2f6-4f47-8763-04db8b49ea6a",
   "metadata": {},
   "outputs": [
    {
     "data": {
      "text/latex": [
       "$\\displaystyle \\left(L - 4\\right) \\left(L - 3\\right) - 2$"
      ],
      "text/plain": [
       "(L - 4)*(L - 3) - 2"
      ]
     },
     "execution_count": 7,
     "metadata": {},
     "output_type": "execute_result"
    }
   ],
   "source": [
    "eigenvalue_determinant = solve_2by2(eigenvalue_matrix)\n",
    "eigenvalue_determinant"
   ]
  },
  {
   "cell_type": "code",
   "execution_count": 8,
   "id": "122d7f69-e39d-4e97-875b-2cc452ab7838",
   "metadata": {},
   "outputs": [
    {
     "data": {
      "text/latex": [
       "$\\displaystyle L^{2} - 7 L + 10$"
      ],
      "text/plain": [
       "L**2 - 7*L + 10"
      ]
     },
     "execution_count": 8,
     "metadata": {},
     "output_type": "execute_result"
    }
   ],
   "source": [
    "expanded_formula = sym.expand(eigenvalue_determinant)\n",
    "expanded_formula"
   ]
  },
  {
   "cell_type": "markdown",
   "id": "7afbeb70-9c1f-492f-b3bc-9ee9cc51dd42",
   "metadata": {},
   "source": [
    "### Solve for lambda"
   ]
  },
  {
   "cell_type": "code",
   "execution_count": 9,
   "id": "62e5f58c-7213-4367-8432-b38a4b5baaa1",
   "metadata": {},
   "outputs": [
    {
     "data": {
      "text/latex": [
       "$\\displaystyle \\left\\{2, 5\\right\\}$"
      ],
      "text/plain": [
       "{2, 5}"
      ]
     },
     "execution_count": 9,
     "metadata": {},
     "output_type": "execute_result"
    }
   ],
   "source": [
    "lambda_values =sym.solveset(expanded_formula, L)\n",
    "lambda_values"
   ]
  },
  {
   "cell_type": "markdown",
   "id": "f13927f3-0c2f-4bca-8727-57e3dfddf7de",
   "metadata": {},
   "source": [
    "The Eigenvalues should be 2 and 5. We will later verify with numpy functions"
   ]
  },
  {
   "cell_type": "markdown",
   "id": "bb88cc84-4bd5-4e0e-80f8-bbefbdf685b0",
   "metadata": {},
   "source": [
    "## Finding Eigenvectors"
   ]
  },
  {
   "cell_type": "code",
   "execution_count": 10,
   "id": "aa3bbfcb-d8fc-4dad-a2d1-14d7245f8a52",
   "metadata": {},
   "outputs": [
    {
     "data": {
      "text/latex": [
       "$\\displaystyle \\left[\\begin{matrix}2 x + y\\\\2 x + 3 y\\end{matrix}\\right]$"
      ],
      "text/plain": [
       "Matrix([\n",
       "[  2*x + y],\n",
       "[2*x + 3*y]])"
      ]
     },
     "execution_count": 10,
     "metadata": {},
     "output_type": "execute_result"
    }
   ],
   "source": [
    "x = sym.Symbol('x')\n",
    "y=sym.Symbol('y')\n",
    "ev = (E * sym.Matrix([[x], [y]])) - (1 * (sym.Matrix([[x], [y]])))\n",
    "ev"
   ]
  },
  {
   "cell_type": "code",
   "execution_count": 11,
   "id": "cf3d9d7d-7252-4f55-b3dc-64d4d5ebf9d5",
   "metadata": {},
   "outputs": [
    {
     "data": {
      "text/latex": [
       "$\\displaystyle \\left[\\begin{matrix}0\\\\0\\end{matrix}\\right]$"
      ],
      "text/plain": [
       "Matrix([\n",
       "[0],\n",
       "[0]])"
      ]
     },
     "execution_count": 11,
     "metadata": {},
     "output_type": "execute_result"
    }
   ],
   "source": [
    "sym.nsolve((ev[0], ev[1]), (x, y), (1, 1))"
   ]
  },
  {
   "cell_type": "markdown",
   "id": "39f9f5b8-6978-4279-8573-c47d27ed8d2f",
   "metadata": {},
   "source": [
    "# Verifying with Numpy"
   ]
  },
  {
   "cell_type": "code",
   "execution_count": 12,
   "id": "1140ecf3-bcdb-46c1-8314-7d93dbbc2e7e",
   "metadata": {},
   "outputs": [],
   "source": [
    "val, vec = np.linalg.eig(E)"
   ]
  },
  {
   "cell_type": "code",
   "execution_count": 13,
   "id": "9db04a75-0bc4-4e1f-b330-44109e13c325",
   "metadata": {},
   "outputs": [
    {
     "name": "stdout",
     "output_type": "stream",
     "text": [
      "Created function Eigenvalues \n",
      " {2, 5}\n",
      "Numpy Eigenvalues \n",
      " [2. 5.]\n"
     ]
    }
   ],
   "source": [
    "print('Created function Eigenvalues \\n', lambda_values)\n",
    "print('Numpy Eigenvalues \\n', val)"
   ]
  },
  {
   "cell_type": "code",
   "execution_count": 14,
   "id": "116fc68c-ab39-4b85-a753-9ccfa5fd0001",
   "metadata": {},
   "outputs": [
    {
     "name": "stdout",
     "output_type": "stream",
     "text": [
      "Created function Eigenvectors:\n",
      "  vectors\n",
      "Numpy Eigenvectors\n",
      " [[-0.70710678 -0.4472136 ]\n",
      " [ 0.70710678 -0.89442719]]\n"
     ]
    }
   ],
   "source": [
    "print('Created function Eigenvectors:\\n ', 'vectors')\n",
    "print('Numpy Eigenvectors\\n', vec)"
   ]
  }
 ],
 "metadata": {
  "kernelspec": {
   "display_name": "Python 3 (ipykernel)",
   "language": "python",
   "name": "python3"
  },
  "language_info": {
   "codemirror_mode": {
    "name": "ipython",
    "version": 3
   },
   "file_extension": ".py",
   "mimetype": "text/x-python",
   "name": "python",
   "nbconvert_exporter": "python",
   "pygments_lexer": "ipython3",
   "version": "3.8.5"
  }
 },
 "nbformat": 4,
 "nbformat_minor": 5
}
